{
  "nbformat": 4,
  "nbformat_minor": 0,
  "metadata": {
    "colab": {
      "provenance": [],
      "gpuType": "T4",
      "mount_file_id": "18HjoGluySEtTpALxOdXmzlNXwOqQCJZR",
      "authorship_tag": "ABX9TyNPhgfNG2Y7ldmAYQ7sxteF",
      "include_colab_link": true
    },
    "kernelspec": {
      "name": "python3",
      "display_name": "Python 3"
    },
    "language_info": {
      "name": "python"
    },
    "accelerator": "GPU"
  },
  "cells": [
    {
      "cell_type": "markdown",
      "metadata": {
        "id": "view-in-github",
        "colab_type": "text"
      },
      "source": [
        "<a href=\"https://colab.research.google.com/github/zsert1/sparta_coding_club_AI/blob/main/%ED%83%90%EC%83%89%EC%A0%81_%EB%8D%B0%EC%9D%B4%ED%84%B0_%EB%B6%84%EC%84%9D_(EDA)_%EB%B0%8F_%EC%A0%84%EC%B2%98%EB%A6%AC(%EC%8A%A4%ED%8C%8C%EB%A5%B4%ED%83%80_%EC%BD%94%EB%94%A9_%EC%9E%AC%EC%A7%81%EC%9E%90_%EA%B5%90%EC%9C%A1).ipynb\" target=\"_parent\"><img src=\"https://colab.research.google.com/assets/colab-badge.svg\" alt=\"Open In Colab\"/></a>"
      ]
    },
    {
      "cell_type": "markdown",
      "source": [
        "금일 데이터 셋:\n",
        "채무 불이행 데이터는 은행에서 대출 승인 여부 등을 결정할 때 도움을\n",
        "받기 위해 구축 된 데이터로, 은행의 주요 수익원인 대출을 신규 고객에 대해 진행할지 말지\n",
        "(해당 고객이 대출을 잘 상환할 고객이면 진행/그렇지 않으면 미진행) 결정할 때,\n",
        "과거의 고객 정보 데이터 기반으로 머신러닝/딥러닝을 통해 푸는 도움을 제공하는 학습을 하기위한 데이터"
      ],
      "metadata": {
        "id": "Lfoc6bYr9o8h"
      }
    },
    {
      "cell_type": "markdown",
      "source": [
        "## Libary Definition"
      ],
      "metadata": {
        "id": "iBhNpqS4-7Sm"
      }
    },
    {
      "cell_type": "code",
      "source": [
        "import pandas as pd\n",
        "import numpy as np"
      ],
      "metadata": {
        "id": "klobz4S_90Ww"
      },
      "execution_count": 1,
      "outputs": []
    },
    {
      "cell_type": "code",
      "source": [
        "data_path='./sample_data/Loan_Default.csv'\n",
        "num_sample=10\n",
        "#\n",
        "missing_value='remove'\n",
        "\n",
        "# 데이터 전처리 시에 삭제 플래그 맟 대체\n",
        "missing_value_flag = 'remove' # if flag is 'replace', missing values are replaced with the mode, etc.\n",
        "# 데이터 전처리 시에 스케일링 플래그\n",
        "scaling_flag = 'min-max' # if flag is 'standardization', numerical values are scaled by standardization"
      ],
      "metadata": {
        "id": "MT4CWGTG_UX7"
      },
      "execution_count": 17,
      "outputs": []
    },
    {
      "cell_type": "markdown",
      "source": [
        "## 데이터 불러오기"
      ],
      "metadata": {
        "id": "pJe2MR8VALCf"
      }
    },
    {
      "cell_type": "code",
      "source": [
        "# 키값이 중요하지 않은 경우이기 때무에 일반적으로 제거\n",
        "eda_df=pd.read_csv(data_path)\n",
        "eda_df.head(num_sample)\n",
        "# 줄의 갯수\n",
        "print('# of data: {}'.format(eda_df.shape[0]))\n",
        "# 컬럼의 갯수\n",
        "print('# of features: {}\\n'.format(eda_df.shape[1]))\n",
        "print('feature name/dtype')\n",
        "# 숫자 데이터의 갯수\n",
        "numerical_count = 0\n",
        "# 숫자가 아닌 데이터의 갯수\n",
        "categorical_count = 0\n",
        "for feature_name, feature_type in zip(eda_df.columns, eda_df.dtypes):\n",
        "  if np.issubdtype(feature_type, np.number):\n",
        "    numerical_count += 1\n",
        "  else:\n",
        "    categorical_count += 1\n",
        "  print('{}: {}'.format(feature_name, feature_type))\n",
        "\n",
        "print('\\n # of numerical item: {}/# of categorical item: {}'.format(numerical_count, categorical_count))\n",
        "# 표준편차 분위 수 나오는 함수\n",
        "eda_df.describe()\n",
        "\n",
        "label_df = eda_df['Status']\n",
        "label_dict = label_df.value_counts()\n",
        "print('label shape: {}'.format(label_df.shape))\n",
        "print('\\nnum of negative label: {}/num of positive label: {}'.format(label_dict[0], label_dict[1]))\n",
        "print('% of negative label: {}/% of positive label: {}'.format(label_dict[0] / label_df.shape[0] * 100, label_dict[1] / label_df.shape[0] * 100))"
      ],
      "metadata": {
        "colab": {
          "base_uri": "https://localhost:8080/"
        },
        "id": "6ujrUwk0_5zR",
        "outputId": "c21607bc-39c1-48a1-d4e2-b336ac39005b"
      },
      "execution_count": 15,
      "outputs": [
        {
          "output_type": "stream",
          "name": "stdout",
          "text": [
            "# of data: 148670\n",
            "# of features: 34\n",
            "\n",
            "feature name/dtype\n",
            "ID: int64\n",
            "year: int64\n",
            "loan_limit: object\n",
            "Gender: object\n",
            "approv_in_adv: object\n",
            "loan_type: object\n",
            "loan_purpose: object\n",
            "Credit_Worthiness: object\n",
            "open_credit: object\n",
            "business_or_commercial: object\n",
            "loan_amount: int64\n",
            "rate_of_interest: float64\n",
            "Interest_rate_spread: float64\n",
            "Upfront_charges: float64\n",
            "term: float64\n",
            "Neg_ammortization: object\n",
            "interest_only: object\n",
            "lump_sum_payment: object\n",
            "property_value: float64\n",
            "construction_type: object\n",
            "occupancy_type: object\n",
            "Secured_by: object\n",
            "total_units: object\n",
            "income: float64\n",
            "credit_type: object\n",
            "Credit_Score: int64\n",
            "co-applicant_credit_type: object\n",
            "age: object\n",
            "submission_of_application: object\n",
            "LTV: float64\n",
            "Region: object\n",
            "Security_Type: object\n",
            "Status: int64\n",
            "dtir1: float64\n",
            "\n",
            " # of numerical item: 13/# of categorical item: 21\n",
            "label shape: (148670,)\n",
            "\n",
            "num of negative label: 112031/num of positive label: 36639\n",
            "% of negative label: 75.3554853030201/% of positive label: 24.64451469697989\n"
          ]
        }
      ]
    },
    {
      "cell_type": "markdown",
      "source": [
        "# Data Cleaning"
      ],
      "metadata": {
        "id": "wCAVqCkPCDQN"
      }
    },
    {
      "cell_type": "code",
      "source": [
        "print('Start Removing Duplicates')\n",
        "duplicates = eda_df.duplicated()\n",
        "# 중복제거시 ~duplicates해주면 된다.\n",
        "eda_df = eda_df[~duplicates]\n",
        "print('# of data after removing duplicates: {}\\n'.format(eda_df.shape[0]))\n",
        "\n",
        "\n",
        "print('Start Handling Missing Values')\n",
        "print('features / # of missing values')\n",
        "print(eda_df.isnull().sum())\n",
        "\n",
        "if missing_value_flag == 'remove':\n",
        "  print('Remove missing values\\n')\n",
        "  eda_df = eda_df.dropna()\n",
        "elif missing_value_flag == 'replace':\n",
        "  print('Replace missing values with mode\\n')\n",
        "   # .mode()는 최빈값을 의미한다.\n",
        "  for feature_name in eda_df.columns:\n",
        "    if eda_df[feature_name].isnull().sum() > 0:\n",
        "      eda_df[feature_name].fillna(eda_df[feature_name].mode().iloc[0], inplace=True)\n",
        "\n",
        "print('Start Handling Outliers using IQR')\n",
        "outlier_dict = {}\n",
        "\n",
        "for feature_name in eda_df.columns:\n",
        "  if np.issubdtype(eda_df[feature_name].dtype, np.number):\n",
        "    Q1 = eda_df[feature_name].quantile(0.25)\n",
        "    Q3 = eda_df[feature_name].quantile(0.75)\n",
        "    IQR = Q3 - Q1\n",
        "    lower_bound = Q1 - 1.5 * IQR\n",
        "    upper_bound = Q3 + 1.5 * IQR\n",
        "\n",
        "    num_outlier = ((eda_df[feature_name] < lower_bound) | (eda_df[feature_name] > upper_bound)).sum()\n",
        "    outlier_dict[feature_name] = num_outlier\n",
        "\n",
        "    eda_df = eda_df[(eda_df[feature_name] >= lower_bound) & (eda_df[feature_name] <= upper_bound)]\n",
        "\n",
        "\n",
        "print('Total # of outliers: {}'.format(sum(outlier_dict.values())))\n",
        "print('Number of outliers for each feature')\n",
        "for feature_name, num_outlier in outlier_dict.items():\n",
        "  print('{}: {}'.format(feature_name, num_outlier))\n",
        ""
      ],
      "metadata": {
        "colab": {
          "base_uri": "https://localhost:8080/"
        },
        "id": "uF5ApkmoAkI2",
        "outputId": "cf109bcb-4e6b-4c44-868f-5bdcafdbeb60"
      },
      "execution_count": 19,
      "outputs": [
        {
          "output_type": "stream",
          "name": "stdout",
          "text": [
            "Start Removing Duplicates\n",
            "# of data after removing duplicates: 68443\n",
            "\n",
            "Start Handling Missing Values\n",
            "features / # of missing values\n",
            "ID                           0\n",
            "year                         0\n",
            "loan_limit                   0\n",
            "Gender                       0\n",
            "approv_in_adv                0\n",
            "loan_type                    0\n",
            "loan_purpose                 0\n",
            "Credit_Worthiness            0\n",
            "open_credit                  0\n",
            "business_or_commercial       0\n",
            "loan_amount                  0\n",
            "rate_of_interest             0\n",
            "Interest_rate_spread         0\n",
            "Upfront_charges              0\n",
            "term                         0\n",
            "Neg_ammortization            0\n",
            "interest_only                0\n",
            "lump_sum_payment             0\n",
            "property_value               0\n",
            "construction_type            0\n",
            "occupancy_type               0\n",
            "Secured_by                   0\n",
            "total_units                  0\n",
            "income                       0\n",
            "credit_type                  0\n",
            "Credit_Score                 0\n",
            "co-applicant_credit_type     0\n",
            "age                          0\n",
            "submission_of_application    0\n",
            "LTV                          0\n",
            "Region                       0\n",
            "Security_Type                0\n",
            "Status                       0\n",
            "dtir1                        0\n",
            "dtype: int64\n",
            "Remove missing values\n",
            "\n",
            "Start Handling Outliers using IQR\n",
            "Total # of outliers: 1873\n",
            "Number of outliers for each feature\n",
            "ID: 0\n",
            "year: 0\n",
            "loan_amount: 0\n",
            "rate_of_interest: 0\n",
            "Interest_rate_spread: 197\n",
            "Upfront_charges: 188\n",
            "term: 0\n",
            "property_value: 376\n",
            "income: 817\n",
            "Credit_Score: 0\n",
            "LTV: 295\n",
            "Status: 0\n",
            "dtir1: 0\n"
          ]
        }
      ]
    },
    {
      "cell_type": "code",
      "source": [
        "numerical_features = eda_df.select_dtypes(include=[np.number])\n",
        "numerical_array = numerical_features.values\n",
        "print('numerical features shape: {}'.format(numerical_array.shape))\n",
        "\n",
        "if scaling_flag == 'standardization':\n",
        "  print('Standardization of numeircal features\\n')\n",
        "  feature_mean = np.mean(numerical_array, axis=0)\n",
        "  # 표준편차 np.std\n",
        "  feature_std = np.std(numerical_array, axis=0)\n",
        "  # 분모가 0이면 안되므로 0일 경우 1e-5 대체한다.\n",
        "  feature_std = np.where(feature_std == 0, 1e-5, feature_std)\n",
        "\n",
        "  scaled_data = (numerical_array - feature_mean) / feature_std\n",
        "elif scaling_flag == 'min-max':\n",
        "  print('Min-max normalization of numeircal features\\n')\n",
        "  data_min = np.min(numerical_array, axis=0)\n",
        "  data_max = np.max(numerical_array, axis=0)\n",
        "\n",
        "  data_max = np.where(data_max == data_min, data_min + 1e-5, data_max)\n",
        "\n",
        "  scaled_data = (numerical_array - data_min) / (data_max - data_min)\n",
        "\n",
        "categorical_features = eda_df.select_dtypes(include=[object])\n",
        "# 비숫자형 데이터의 값들\n",
        "categorical_array = categorical_features.values\n",
        "print('categorical features shape: {}'.format(categorical_array.shape))\n",
        "\n",
        "categorical_encoded_list = []\n",
        "print('One-hot encoding of categorical features\\n')\n",
        "num_encoded_dim = 0\n",
        "print('categorical_features.columns:{}'.format(categorical_features.columns))\n",
        "# 숫자가 아닌 feature의 컬럼을 원 핫 코딩을 통하여 숫자형식의 배열로 만들어 준다\n",
        "# enumerate는 반복 가능한 객체를 순회하면서 각 요소에 인덱스를 자동으로 할당\n",
        "for i, feature_name in enumerate(categorical_features.columns):\n",
        "    # np.unique 함수는 해당 피처에서 유일한 값들(고유 값들)을 찾아서 배열로 반환\n",
        "    unique_values = np.unique(categorical_array[:, i])\n",
        "    print('{}: {}'.format(feature_name, unique_values))\n",
        "    # num_encoded_dim은 원-핫 인코딩된 후의 전체 데이터에서의 열 개수(차원 수).\n",
        "    # 카테고리형 피처의 고유 값의 개수에 따라 열이 추가되므로, 각 피처의 고유 값 개수를 모두 더한 값이 최종 dim\n",
        "    num_encoded_dim += len(unique_values)\n",
        "\n",
        "    encoded_array = np.zeros((categorical_array.shape[0], len(unique_values)))\n",
        "  #  np.where(unique_values == value)는 현재 처리 중인 값(value)이 unique_values 배열에서 몇 번째 위치에 있는지를 반환.\n",
        "  #  현재 행(j)에서 value가 고유 값 배열 unique_values에서 몇 번째 위치에 있는지를 기반으로 해당 인덱스에 1을 설정\n",
        "    for j, value in enumerate(categorical_array[:, i]):\n",
        "        encoded_array[j, np.where(unique_values == value)[0]] = 1\n",
        "    categorical_encoded_list.append(encoded_array)\n",
        "\n",
        "categorical_encoded_array = np.hstack(categorical_encoded_list)\n",
        "print('\\none-hot encoded dim: {}'.format(num_encoded_dim))\n",
        "print('categorical encoded array shape: {}'.format(categorical_encoded_array.shape))\n",
        "# np.hstack을 통하여 기존 숫자형 shape과 비 숫자형을 one-hot인코드하여 나온 shape를 합쳐준다\n",
        "processed_array = np.hstack((scaled_data, categorical_encoded_array))\n",
        "print('processed array shape: {}'.format(processed_array.shape))"
      ],
      "metadata": {
        "colab": {
          "base_uri": "https://localhost:8080/"
        },
        "id": "8Bf03AO2Jo9T",
        "outputId": "fde61221-c324-4433-e79c-1ca6b2e4d96d"
      },
      "execution_count": 22,
      "outputs": [
        {
          "output_type": "stream",
          "name": "stdout",
          "text": [
            "numerical features shape: (66570, 13)\n",
            "Min-max normalization of numeircal features\n",
            "\n",
            "categorical features shape: (66570, 21)\n",
            "One-hot encoding of categorical features\n",
            "\n",
            "categorical_features.columns:Index(['loan_limit', 'Gender', 'approv_in_adv', 'loan_type', 'loan_purpose',\n",
            "       'Credit_Worthiness', 'open_credit', 'business_or_commercial',\n",
            "       'Neg_ammortization', 'interest_only', 'lump_sum_payment',\n",
            "       'construction_type', 'occupancy_type', 'Secured_by', 'total_units',\n",
            "       'credit_type', 'co-applicant_credit_type', 'age',\n",
            "       'submission_of_application', 'Region', 'Security_Type'],\n",
            "      dtype='object')\n",
            "loan_limit: ['cf' 'ncf']\n",
            "Gender: ['Female' 'Joint' 'Male' 'Sex Not Available']\n",
            "approv_in_adv: ['nopre' 'pre']\n",
            "loan_type: ['type1' 'type2' 'type3']\n",
            "loan_purpose: ['p1' 'p2' 'p3' 'p4']\n",
            "Credit_Worthiness: ['l1' 'l2']\n",
            "open_credit: ['nopc']\n",
            "business_or_commercial: ['b/c' 'nob/c']\n",
            "Neg_ammortization: ['neg_amm' 'not_neg']\n",
            "interest_only: ['int_only' 'not_int']\n",
            "lump_sum_payment: ['lpsm' 'not_lpsm']\n",
            "construction_type: ['sb']\n",
            "occupancy_type: ['ir' 'pr' 'sr']\n",
            "Secured_by: ['home']\n",
            "total_units: ['1U' '2U' '3U' '4U']\n",
            "credit_type: ['CIB' 'CRIF' 'EQUI' 'EXP']\n",
            "co-applicant_credit_type: ['CIB' 'EXP']\n",
            "age: ['25-34' '35-44' '45-54' '55-64' '65-74' '<25' '>74']\n",
            "submission_of_application: ['not_inst' 'to_inst']\n",
            "Region: ['North' 'North-East' 'central' 'south']\n",
            "Security_Type: ['direct']\n",
            "\n",
            "one-hot encoded dim: 55\n",
            "categorical encoded array shape: (66570, 55)\n",
            "processed array shape: (66570, 68)\n"
          ]
        }
      ]
    },
    {
      "cell_type": "code",
      "source": [],
      "metadata": {
        "id": "90v2N_a7Jtxo"
      },
      "execution_count": null,
      "outputs": []
    }
  ]
}