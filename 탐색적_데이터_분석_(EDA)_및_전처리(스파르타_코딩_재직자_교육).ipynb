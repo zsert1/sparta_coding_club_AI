{
  "nbformat": 4,
  "nbformat_minor": 0,
  "metadata": {
    "colab": {
      "provenance": [],
      "gpuType": "T4",
      "toc_visible": true,
      "authorship_tag": "ABX9TyP4h5UYOXHxTOcS9RELrExD",
      "include_colab_link": true
    },
    "kernelspec": {
      "name": "python3",
      "display_name": "Python 3"
    },
    "language_info": {
      "name": "python"
    },
    "accelerator": "GPU"
  },
  "cells": [
    {
      "cell_type": "markdown",
      "metadata": {
        "id": "view-in-github",
        "colab_type": "text"
      },
      "source": [
        "<a href=\"https://colab.research.google.com/github/zsert1/sparta_coding_club_AI/blob/main/%ED%83%90%EC%83%89%EC%A0%81_%EB%8D%B0%EC%9D%B4%ED%84%B0_%EB%B6%84%EC%84%9D_(EDA)_%EB%B0%8F_%EC%A0%84%EC%B2%98%EB%A6%AC(%EC%8A%A4%ED%8C%8C%EB%A5%B4%ED%83%80_%EC%BD%94%EB%94%A9_%EC%9E%AC%EC%A7%81%EC%9E%90_%EA%B5%90%EC%9C%A1).ipynb\" target=\"_parent\"><img src=\"https://colab.research.google.com/assets/colab-badge.svg\" alt=\"Open In Colab\"/></a>"
      ]
    },
    {
      "cell_type": "code",
      "source": [],
      "metadata": {
        "id": "MwBk3IRrIiq6"
      },
      "execution_count": null,
      "outputs": []
    }
  ]
}